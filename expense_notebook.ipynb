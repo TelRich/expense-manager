{
 "cells": [
  {
   "cell_type": "code",
   "execution_count": 1,
   "metadata": {},
   "outputs": [],
   "source": [
    "from expense_manager import Expense, ExpenseDatabase"
   ]
  },
  {
   "cell_type": "code",
   "execution_count": 2,
   "metadata": {},
   "outputs": [],
   "source": [
    "db = ExpenseDatabase()"
   ]
  },
  {
   "cell_type": "code",
   "execution_count": 3,
   "metadata": {},
   "outputs": [],
   "source": [
    "# Create expenses\n",
    "expense1 = Expense('Laptop', 200.40)\n",
    "expense2 = Expense('Coffee', 4.50)\n",
    "expense3 = Expense('Headphones', 30.00)\n",
    "expense4 = Expense('Lunch', 10.00)\n",
    "expense5 = Expense('Dinner', 20.00)\n",
    "expense6 = Expense('Dinner', 50.00)\n",
    "expense7 = Expense('Coffee', 7.50)"
   ]
  },
  {
   "cell_type": "code",
   "execution_count": 4,
   "metadata": {},
   "outputs": [],
   "source": [
    "# Adding expense to database\n",
    "db.add_expense(expense1)\n",
    "db.add_expense(expense2)\n",
    "db.add_expense(expense3)\n",
    "db.add_expense(expense4)\n",
    "db.add_expense(expense5)\n",
    "db.add_expense(expense6)\n",
    "db.add_expense(expense7)"
   ]
  },
  {
   "cell_type": "code",
   "execution_count": 5,
   "metadata": {},
   "outputs": [
    {
     "data": {
      "text/plain": [
       "[{'id': 'a9e54074-fe98-40fa-8a3c-8446636e8a53',\n",
       "  'title': 'Laptop',\n",
       "  'amount': 200.4,\n",
       "  'created_at': '2025-02-18T22:50:08.077121+00:00',\n",
       "  'updated_at': '2025-02-18T22:50:08.077121+00:00'},\n",
       " {'id': '77882790-ca01-4ffd-8b42-ad4eea76a34a',\n",
       "  'title': 'Coffee',\n",
       "  'amount': 4.5,\n",
       "  'created_at': '2025-02-18T22:50:08.077274+00:00',\n",
       "  'updated_at': '2025-02-18T22:50:08.077274+00:00'},\n",
       " {'id': 'e49d9608-1c45-4de1-bf31-303be1b22c4d',\n",
       "  'title': 'Headphones',\n",
       "  'amount': 30.0,\n",
       "  'created_at': '2025-02-18T22:50:08.077351+00:00',\n",
       "  'updated_at': '2025-02-18T22:50:08.077351+00:00'},\n",
       " {'id': '74044eae-7a7b-4b76-80d8-759191f85947',\n",
       "  'title': 'Lunch',\n",
       "  'amount': 10.0,\n",
       "  'created_at': '2025-02-18T22:50:08.077462+00:00',\n",
       "  'updated_at': '2025-02-18T22:50:08.077462+00:00'},\n",
       " {'id': 'd7e4a909-1b9d-40ee-b26f-8f032d887689',\n",
       "  'title': 'Dinner',\n",
       "  'amount': 20.0,\n",
       "  'created_at': '2025-02-18T22:50:08.077535+00:00',\n",
       "  'updated_at': '2025-02-18T22:50:08.077535+00:00'},\n",
       " {'id': '651b31fa-c53f-41c6-8d05-43fb0d13fabf',\n",
       "  'title': 'Dinner',\n",
       "  'amount': 50.0,\n",
       "  'created_at': '2025-02-18T22:50:08.077596+00:00',\n",
       "  'updated_at': '2025-02-18T22:50:08.077596+00:00'},\n",
       " {'id': '38de68ef-76d7-4865-8b50-7c74a9604309',\n",
       "  'title': 'Coffee',\n",
       "  'amount': 7.5,\n",
       "  'created_at': '2025-02-18T22:50:08.077745+00:00',\n",
       "  'updated_at': '2025-02-18T22:50:08.077745+00:00'}]"
      ]
     },
     "execution_count": 5,
     "metadata": {},
     "output_type": "execute_result"
    }
   ],
   "source": [
    "# Print all expenses\n",
    "db.to_dict()"
   ]
  },
  {
   "cell_type": "code",
   "execution_count": 6,
   "metadata": {},
   "outputs": [],
   "source": [
    "# Updating Expense\n",
    "expense1.update(title='New Laptop', amount=300.00)"
   ]
  },
  {
   "cell_type": "code",
   "execution_count": 7,
   "metadata": {},
   "outputs": [
    {
     "data": {
      "text/plain": [
       "{'id': 'a9e54074-fe98-40fa-8a3c-8446636e8a53',\n",
       " 'title': 'New Laptop',\n",
       " 'amount': 300.0,\n",
       " 'created_at': '2025-02-18T22:50:08.077121+00:00',\n",
       " 'updated_at': '2025-02-18T22:50:09.665599+00:00'}"
      ]
     },
     "execution_count": 7,
     "metadata": {},
     "output_type": "execute_result"
    }
   ],
   "source": [
    "# retrieving updated Expense\n",
    "db.get_expense(expense1.id).to_dict()"
   ]
  },
  {
   "cell_type": "code",
   "execution_count": 8,
   "metadata": {},
   "outputs": [
    {
     "data": {
      "text/plain": [
       "[{'id': 'd7e4a909-1b9d-40ee-b26f-8f032d887689',\n",
       "  'title': 'Dinner',\n",
       "  'amount': 20.0,\n",
       "  'created_at': '2025-02-18T22:50:08.077535+00:00',\n",
       "  'updated_at': '2025-02-18T22:50:08.077535+00:00'},\n",
       " {'id': '651b31fa-c53f-41c6-8d05-43fb0d13fabf',\n",
       "  'title': 'Dinner',\n",
       "  'amount': 50.0,\n",
       "  'created_at': '2025-02-18T22:50:08.077596+00:00',\n",
       "  'updated_at': '2025-02-18T22:50:08.077596+00:00'}]"
      ]
     },
     "execution_count": 8,
     "metadata": {},
     "output_type": "execute_result"
    }
   ],
   "source": [
    "# retrieving expense by title\n",
    "db.get_expense_by_title('dinner')"
   ]
  },
  {
   "cell_type": "code",
   "execution_count": 9,
   "metadata": {},
   "outputs": [],
   "source": [
    "# Deleting Expenses\n",
    "db.remove_expense(expense6.id)\n",
    "db.remove_expense(expense7.id)"
   ]
  },
  {
   "cell_type": "code",
   "execution_count": 10,
   "metadata": {},
   "outputs": [
    {
     "data": {
      "text/plain": [
       "[{'id': 'a9e54074-fe98-40fa-8a3c-8446636e8a53',\n",
       "  'title': 'New Laptop',\n",
       "  'amount': 300.0,\n",
       "  'created_at': '2025-02-18T22:50:08.077121+00:00',\n",
       "  'updated_at': '2025-02-18T22:50:09.665599+00:00'},\n",
       " {'id': '77882790-ca01-4ffd-8b42-ad4eea76a34a',\n",
       "  'title': 'Coffee',\n",
       "  'amount': 4.5,\n",
       "  'created_at': '2025-02-18T22:50:08.077274+00:00',\n",
       "  'updated_at': '2025-02-18T22:50:08.077274+00:00'},\n",
       " {'id': 'e49d9608-1c45-4de1-bf31-303be1b22c4d',\n",
       "  'title': 'Headphones',\n",
       "  'amount': 30.0,\n",
       "  'created_at': '2025-02-18T22:50:08.077351+00:00',\n",
       "  'updated_at': '2025-02-18T22:50:08.077351+00:00'},\n",
       " {'id': '74044eae-7a7b-4b76-80d8-759191f85947',\n",
       "  'title': 'Lunch',\n",
       "  'amount': 10.0,\n",
       "  'created_at': '2025-02-18T22:50:08.077462+00:00',\n",
       "  'updated_at': '2025-02-18T22:50:08.077462+00:00'},\n",
       " {'id': 'd7e4a909-1b9d-40ee-b26f-8f032d887689',\n",
       "  'title': 'Dinner',\n",
       "  'amount': 20.0,\n",
       "  'created_at': '2025-02-18T22:50:08.077535+00:00',\n",
       "  'updated_at': '2025-02-18T22:50:08.077535+00:00'}]"
      ]
     },
     "execution_count": 10,
     "metadata": {},
     "output_type": "execute_result"
    }
   ],
   "source": [
    "db.to_dict()"
   ]
  },
  {
   "cell_type": "code",
   "execution_count": null,
   "metadata": {},
   "outputs": [],
   "source": []
  }
 ],
 "metadata": {
  "kernelspec": {
   "display_name": "base",
   "language": "python",
   "name": "python3"
  },
  "language_info": {
   "codemirror_mode": {
    "name": "ipython",
    "version": 3
   },
   "file_extension": ".py",
   "mimetype": "text/x-python",
   "name": "python",
   "nbconvert_exporter": "python",
   "pygments_lexer": "ipython3",
   "version": "3.12.7"
  }
 },
 "nbformat": 4,
 "nbformat_minor": 2
}
